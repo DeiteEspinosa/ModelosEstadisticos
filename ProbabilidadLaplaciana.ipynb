{
  "cells": [
    {
      "cell_type": "markdown",
      "metadata": {
        "id": "view-in-github",
        "colab_type": "text"
      },
      "source": [
        "<a href=\"https://colab.research.google.com/github/DeiteEspinosa/ModelosEstadisticos/blob/ProbabilidadLaplaciana/ProbabilidadLaplaciana.ipynb\" target=\"_parent\"><img src=\"https://colab.research.google.com/assets/colab-badge.svg\" alt=\"Open In Colab\"/></a>"
      ]
    },
    {
      "cell_type": "markdown",
      "id": "4340e0b6",
      "metadata": {
        "id": "4340e0b6"
      },
      "source": [
        "# Probabilidad Laplaciana (clásica)\n",
        "Para un experimento aleatorio, se tiene que $\\Omega$ el espacio muestral.\n",
        "\n",
        "Sea $A$ un evento, entonces\n",
        "\n",
        "$$ \\mathbb{P}(A) = \\frac{\\#A}{\\#\\Omega} $$\n",
        "\n",
        "**EJEMPLO:** Sea el experimento de lanzar una moneda 3 veces, de manera independiente (es decir, el $i$-ésimo lanzamiento no me afecta al $i+1$ lanzamiento). El espacio muetral de este experimento es:\n",
        "\n",
        "$$ \\Omega = \\{A,S\\} \\times \\{A,S\\} \\times \\{A,S\\} = \\{A,S\\}^3 $$\n",
        "y tenemos que $\\#\\Omega = 2^3$.\n",
        "\n",
        "Sean los eventos:\n",
        "* $A$: todos los resultados son águila\n",
        "* $S$: todos los resultados son soles\n",
        "* $E$: por lo menos un resultado es sol\n",
        "\n",
        "Calcular las probabilidades de estos eventos:\n",
        "\n",
        "**Solución** Vamos a descomponer mi conjunto $A$ de la siguiente manera:\n",
        "$$A = A_1 \\cap A_2 \\cap A_3 $$\n",
        "donde $A_i$: cae águila en el $i$-ésimo resultado."
      ]
    },
    {
      "cell_type": "code",
      "execution_count": null,
      "id": "8b1de389",
      "metadata": {
        "id": "8b1de389",
        "outputId": "5b1ba423-377d-4d61-b3f4-bb4785ff3556"
      },
      "outputs": [
        {
          "data": {
            "text/plain": [
              "{('A', 'A', 'A'),\n",
              " ('A', 'A', 'S'),\n",
              " ('A', 'S', 'A'),\n",
              " ('A', 'S', 'S'),\n",
              " ('S', 'A', 'A'),\n",
              " ('S', 'A', 'S'),\n",
              " ('S', 'S', 'A'),\n",
              " ('S', 'S', 'S')}"
            ]
          },
          "execution_count": 1,
          "metadata": {},
          "output_type": "execute_result"
        }
      ],
      "source": [
        "#Vamos a crear el espacio muestral\n",
        "import itertools #importamos el módulo\n",
        "from itertools import product\n",
        "\n",
        "Omega = set(product({'A','S'},repeat=3))\n",
        "Omega"
      ]
    },
    {
      "cell_type": "code",
      "execution_count": null,
      "id": "ef962cc7",
      "metadata": {
        "id": "ef962cc7",
        "outputId": "1251fdb9-676b-4e4a-84c7-22a9fd75da19"
      },
      "outputs": [
        {
          "data": {
            "text/plain": [
              "8"
            ]
          },
          "execution_count": 2,
          "metadata": {},
          "output_type": "execute_result"
        }
      ],
      "source": [
        "car = len(Omega) #Cardinalidad de Omega\n",
        "car"
      ]
    },
    {
      "cell_type": "code",
      "execution_count": null,
      "id": "ba82f0f1",
      "metadata": {
        "id": "ba82f0f1",
        "outputId": "e423389c-845b-4239-9b51-9b6c631e4937"
      },
      "outputs": [
        {
          "data": {
            "text/plain": [
              "{('A', 'A', 'A'), ('A', 'A', 'S'), ('A', 'S', 'A'), ('A', 'S', 'S')}"
            ]
          },
          "execution_count": 3,
          "metadata": {},
          "output_type": "execute_result"
        }
      ],
      "source": [
        "# Vamos a crear el evento A_1\n",
        "A_1 = {om for om in Omega if om[0] == 'A'} # la primera coordenada es águila\n",
        "A_1"
      ]
    },
    {
      "cell_type": "code",
      "execution_count": null,
      "id": "5301f949",
      "metadata": {
        "id": "5301f949",
        "outputId": "b4de6049-faaa-4c34-d954-6864e118be68"
      },
      "outputs": [
        {
          "data": {
            "text/plain": [
              "{('A', 'A', 'A'), ('A', 'A', 'S'), ('S', 'A', 'A'), ('S', 'A', 'S')}"
            ]
          },
          "execution_count": 4,
          "metadata": {},
          "output_type": "execute_result"
        }
      ],
      "source": [
        "# Vamos a crear el evento A_2\n",
        "A_2 = {om for om in Omega if om[1] == 'A'} # la segunda coordenada es águila\n",
        "A_2"
      ]
    },
    {
      "cell_type": "code",
      "execution_count": null,
      "id": "10616303",
      "metadata": {
        "id": "10616303",
        "outputId": "4ea35858-4dcd-4dff-a8d1-32beadd7732b"
      },
      "outputs": [
        {
          "data": {
            "text/plain": [
              "{('A', 'A', 'A'), ('A', 'S', 'A'), ('S', 'A', 'A'), ('S', 'S', 'A')}"
            ]
          },
          "execution_count": 5,
          "metadata": {},
          "output_type": "execute_result"
        }
      ],
      "source": [
        "# Vamos a crear el evento A_3\n",
        "A_3 = {om for om in Omega if om[2] == 'A'} # la tercera coordenada es águila\n",
        "A_3"
      ]
    },
    {
      "cell_type": "code",
      "execution_count": null,
      "id": "216aa88e",
      "metadata": {
        "id": "216aa88e",
        "outputId": "e5a8dbab-98a4-4d84-e9d9-1eab98ad78a2"
      },
      "outputs": [
        {
          "data": {
            "text/plain": [
              "{('A', 'A', 'A')}"
            ]
          },
          "execution_count": 6,
          "metadata": {},
          "output_type": "execute_result"
        }
      ],
      "source": [
        "#Vamos a crear el evento A\n",
        "A = A_1.intersection(A_2.intersection(A_3))\n",
        "A"
      ]
    },
    {
      "cell_type": "code",
      "execution_count": null,
      "id": "1fea15ed",
      "metadata": {
        "id": "1fea15ed",
        "outputId": "82876397-f958-492e-967c-2054dc249ab9"
      },
      "outputs": [
        {
          "data": {
            "text/plain": [
              "1"
            ]
          },
          "execution_count": 7,
          "metadata": {},
          "output_type": "execute_result"
        }
      ],
      "source": [
        "len(A)"
      ]
    },
    {
      "cell_type": "code",
      "execution_count": null,
      "id": "7922a8ce",
      "metadata": {
        "id": "7922a8ce",
        "outputId": "8c8cef44-fa97-4ae6-aa39-768974e3dba3"
      },
      "outputs": [
        {
          "data": {
            "text/plain": [
              "0.125"
            ]
          },
          "execution_count": 8,
          "metadata": {},
          "output_type": "execute_result"
        }
      ],
      "source": [
        "# Vamos a calculamos la probailidad de A\n",
        "P_A = len(A)/len(Omega)\n",
        "P_A"
      ]
    },
    {
      "cell_type": "markdown",
      "id": "94ac62db",
      "metadata": {
        "id": "94ac62db"
      },
      "source": [
        "Yo quiero expresar mi resultado en fracción, esto se hace de la siguiente manera:"
      ]
    },
    {
      "cell_type": "code",
      "execution_count": null,
      "id": "353c2588",
      "metadata": {
        "id": "353c2588"
      },
      "outputs": [],
      "source": [
        "from fractions import Fraction\n",
        "\n",
        "def p(E,Omega):\n",
        "    p = Fraction(len(E),len(Omega))\n",
        "    return p"
      ]
    },
    {
      "cell_type": "code",
      "execution_count": null,
      "id": "1f02f538",
      "metadata": {
        "id": "1f02f538",
        "outputId": "2bce2b1e-8107-4bd2-8c0e-fbba5ba9e4dd"
      },
      "outputs": [
        {
          "data": {
            "text/plain": [
              "Fraction(1, 8)"
            ]
          },
          "execution_count": 10,
          "metadata": {},
          "output_type": "execute_result"
        }
      ],
      "source": [
        "probA = p(A,Omega)\n",
        "probA"
      ]
    },
    {
      "cell_type": "code",
      "execution_count": null,
      "id": "188d212d",
      "metadata": {
        "id": "188d212d",
        "outputId": "b73be59a-155c-4fd6-cb2e-bd6ca54452a4"
      },
      "outputs": [
        {
          "data": {
            "text/plain": [
              "{('S', 'A', 'A'), ('S', 'A', 'S'), ('S', 'S', 'A'), ('S', 'S', 'S')}"
            ]
          },
          "execution_count": 11,
          "metadata": {},
          "output_type": "execute_result"
        }
      ],
      "source": [
        "# Vamos a crear el evento S_1\n",
        "S_1 = {om for om in Omega if om[0] == 'S'} # la primera coordenada es sol\n",
        "S_1"
      ]
    },
    {
      "cell_type": "code",
      "execution_count": null,
      "id": "0a95cc8a",
      "metadata": {
        "id": "0a95cc8a",
        "outputId": "4453f5f1-a9c6-4922-db77-8230a4a9fb03"
      },
      "outputs": [
        {
          "data": {
            "text/plain": [
              "{('A', 'S', 'A'), ('A', 'S', 'S'), ('S', 'S', 'A'), ('S', 'S', 'S')}"
            ]
          },
          "execution_count": 12,
          "metadata": {},
          "output_type": "execute_result"
        }
      ],
      "source": [
        "# Vamos a crear el evento S_2\n",
        "S_2 = {om for om in Omega if om[1] == 'S'} # la segunda coordenada es sol\n",
        "S_2"
      ]
    },
    {
      "cell_type": "code",
      "execution_count": null,
      "id": "ca0644d9",
      "metadata": {
        "id": "ca0644d9",
        "outputId": "6a44bc01-4f93-4fe4-8e92-576772aa6a24"
      },
      "outputs": [
        {
          "data": {
            "text/plain": [
              "{('A', 'A', 'S'), ('A', 'S', 'S'), ('S', 'A', 'S'), ('S', 'S', 'S')}"
            ]
          },
          "execution_count": 13,
          "metadata": {},
          "output_type": "execute_result"
        }
      ],
      "source": [
        "# Vamos a crear el evento S_3\n",
        "S_3 = {om for om in Omega if om[2] == 'S'} # la tercera coordenada es sol\n",
        "S_3"
      ]
    },
    {
      "cell_type": "code",
      "execution_count": null,
      "id": "efec4f75",
      "metadata": {
        "id": "efec4f75",
        "outputId": "d1d78327-0b4a-4991-8f5a-f67f7b0c30e2"
      },
      "outputs": [
        {
          "data": {
            "text/plain": [
              "{('S', 'S', 'S')}"
            ]
          },
          "execution_count": 14,
          "metadata": {},
          "output_type": "execute_result"
        }
      ],
      "source": [
        "#Vamos a crear el evento S\n",
        "S = S_1.intersection(S_2.intersection(S_3))\n",
        "S"
      ]
    },
    {
      "cell_type": "code",
      "execution_count": null,
      "id": "0c51532c",
      "metadata": {
        "id": "0c51532c",
        "outputId": "0b5689d6-7f9e-4167-95e4-915938a373a1"
      },
      "outputs": [
        {
          "data": {
            "text/plain": [
              "1"
            ]
          },
          "execution_count": 15,
          "metadata": {},
          "output_type": "execute_result"
        }
      ],
      "source": [
        "len(S)"
      ]
    },
    {
      "cell_type": "code",
      "execution_count": null,
      "id": "94d7ecb4",
      "metadata": {
        "id": "94d7ecb4",
        "outputId": "61888701-c520-441e-b697-9e21e9d96992"
      },
      "outputs": [
        {
          "data": {
            "text/plain": [
              "0.125"
            ]
          },
          "execution_count": 16,
          "metadata": {},
          "output_type": "execute_result"
        }
      ],
      "source": [
        "# Vamos a calculamos la probailidad de S\n",
        "P_S = len(S)/len(Omega)\n",
        "P_S"
      ]
    },
    {
      "cell_type": "markdown",
      "id": "ec92e321",
      "metadata": {
        "id": "ec92e321"
      },
      "source": [
        "Expresamos el resultado en fracción, esto se hace de la siguiente manera:"
      ]
    },
    {
      "cell_type": "code",
      "execution_count": null,
      "id": "f3613ca5",
      "metadata": {
        "id": "f3613ca5"
      },
      "outputs": [],
      "source": [
        "from fractions import Fraction\n",
        "\n",
        "def p(E,Omega):\n",
        "    p = Fraction(len(E),len(Omega))\n",
        "    return p"
      ]
    },
    {
      "cell_type": "code",
      "execution_count": null,
      "id": "443a3f54",
      "metadata": {
        "id": "443a3f54",
        "outputId": "1b360aae-79c5-4e56-89f0-7a0bdb524773"
      },
      "outputs": [
        {
          "data": {
            "text/plain": [
              "Fraction(1, 8)"
            ]
          },
          "execution_count": 18,
          "metadata": {},
          "output_type": "execute_result"
        }
      ],
      "source": [
        "probS = p(S,Omega)\n",
        "probS"
      ]
    },
    {
      "cell_type": "markdown",
      "id": "ee2a3275",
      "metadata": {
        "id": "ee2a3275"
      },
      "source": [
        "Para calcular la probabilidad de $E$, que se define como el evento en el que por lo menos aparece una $S$ (sol), en la secuencia de lanzamientos.\n",
        "\n",
        "Para encontrar $E$, podemos pensar en el complemento de $A$, ya que en todos los demás casos aparece al menos un $S$, entonces sería:"
      ]
    },
    {
      "cell_type": "code",
      "execution_count": null,
      "id": "2ca37d65",
      "metadata": {
        "id": "2ca37d65",
        "outputId": "9f886d62-24e2-4312-fbd6-1a7f39535e54"
      },
      "outputs": [
        {
          "data": {
            "text/plain": [
              "{('A', 'A', 'S'),\n",
              " ('A', 'S', 'A'),\n",
              " ('A', 'S', 'S'),\n",
              " ('S', 'A', 'A'),\n",
              " ('S', 'A', 'S'),\n",
              " ('S', 'S', 'A'),\n",
              " ('S', 'S', 'S')}"
            ]
          },
          "execution_count": 19,
          "metadata": {},
          "output_type": "execute_result"
        }
      ],
      "source": [
        "#Sacamos el complemento de A\n",
        "E = Omega - A\n",
        "E"
      ]
    },
    {
      "cell_type": "code",
      "execution_count": null,
      "id": "0fec15f5",
      "metadata": {
        "id": "0fec15f5",
        "outputId": "a359c1ba-703f-434f-e22e-8637c54f2183"
      },
      "outputs": [
        {
          "data": {
            "text/plain": [
              "7"
            ]
          },
          "execution_count": 20,
          "metadata": {},
          "output_type": "execute_result"
        }
      ],
      "source": [
        "len(E)"
      ]
    },
    {
      "cell_type": "code",
      "execution_count": null,
      "id": "fdd1fa31",
      "metadata": {
        "id": "fdd1fa31",
        "outputId": "ed7498d8-9e35-45b1-eef5-7ea8800cca54"
      },
      "outputs": [
        {
          "data": {
            "text/plain": [
              "0.875"
            ]
          },
          "execution_count": 21,
          "metadata": {},
          "output_type": "execute_result"
        }
      ],
      "source": [
        "# Vamos a calculamos la probailidad de S\n",
        "P_E = len(E)/len(Omega)\n",
        "P_E"
      ]
    },
    {
      "cell_type": "markdown",
      "id": "4e909b06",
      "metadata": {
        "id": "4e909b06"
      },
      "source": [
        "Expresamos el resultado en fracción, esto se hace de la siguiente manera:"
      ]
    },
    {
      "cell_type": "code",
      "execution_count": null,
      "id": "5085c819",
      "metadata": {
        "id": "5085c819"
      },
      "outputs": [],
      "source": [
        "from fractions import Fraction\n",
        "\n",
        "def p(E,Omega):\n",
        "    p = Fraction(len(E),len(Omega))\n",
        "    return p"
      ]
    },
    {
      "cell_type": "code",
      "execution_count": null,
      "id": "037ea81f",
      "metadata": {
        "id": "037ea81f",
        "outputId": "9e752062-7dcb-40fb-cb4d-5d637af9d9bb"
      },
      "outputs": [
        {
          "data": {
            "text/plain": [
              "Fraction(7, 8)"
            ]
          },
          "execution_count": 23,
          "metadata": {},
          "output_type": "execute_result"
        }
      ],
      "source": [
        "probE = p(E,Omega)\n",
        "probE"
      ]
    },
    {
      "cell_type": "markdown",
      "id": "62d5152c",
      "metadata": {
        "id": "62d5152c"
      },
      "source": [
        "# Probabilidad condicional\n",
        "Definimos la probabilidad de que ocurra un evento $A$ sabiendo que ocurre el evento $B$,\n",
        "$$ \\mathbb{P}(A \\mid B) = \\frac{\\mathbb{P}(A \\cap B)}{\\mathbb{P} (B)} = \\frac{\\# A\\cap B}{\\#B} $$\n",
        "donde $\\mathbb{P}(B)>0$"
      ]
    },
    {
      "cell_type": "code",
      "execution_count": null,
      "id": "a2e671b4",
      "metadata": {
        "id": "a2e671b4"
      },
      "outputs": [],
      "source": [
        "def prob_cond(E,F):\n",
        "    return len(E & F) / len(F)"
      ]
    },
    {
      "cell_type": "markdown",
      "id": "e2707c7c",
      "metadata": {
        "id": "e2707c7c"
      },
      "source": [
        "Quiero clacular la probailidad condicional de estos eventos:\n",
        "* El primer lanzamiento es águila\n",
        "* Dos de los resultados son águila"
      ]
    },
    {
      "cell_type": "code",
      "execution_count": null,
      "id": "150d287a",
      "metadata": {
        "id": "150d287a",
        "outputId": "80ceb432-9833-41b0-ef38-fcb0213b6add"
      },
      "outputs": [
        {
          "data": {
            "text/plain": [
              "{('A', 'A', 'A'), ('A', 'A', 'S'), ('A', 'S', 'A'), ('A', 'S', 'S')}"
            ]
          },
          "execution_count": 25,
          "metadata": {},
          "output_type": "execute_result"
        }
      ],
      "source": [
        "#El primer lanzamiento es águila\n",
        "B = {om for om in Omega if om[0] == 'A'} # la segunda coordenada es águila\n",
        "B"
      ]
    },
    {
      "cell_type": "code",
      "execution_count": null,
      "id": "2ebbec47",
      "metadata": {
        "id": "2ebbec47",
        "outputId": "fc80ab16-b89d-4f39-83af-d7105119e875"
      },
      "outputs": [
        {
          "data": {
            "text/plain": [
              "{('A', 'A', 'S'), ('A', 'S', 'A'), ('S', 'A', 'A')}"
            ]
          },
          "execution_count": 26,
          "metadata": {},
          "output_type": "execute_result"
        }
      ],
      "source": [
        "C = {om for om in Omega if om.count('A')== 2}\n",
        "C"
      ]
    },
    {
      "cell_type": "code",
      "execution_count": null,
      "id": "788d9b90",
      "metadata": {
        "id": "788d9b90"
      },
      "outputs": [],
      "source": [
        "def prob(E):\n",
        "    return len(E)/len(Omega)"
      ]
    },
    {
      "cell_type": "code",
      "execution_count": null,
      "id": "c5485be2",
      "metadata": {
        "id": "c5485be2",
        "outputId": "4f5eef8f-8ab4-47b4-f3ca-ea789c0bca86"
      },
      "outputs": [
        {
          "data": {
            "text/plain": [
              "0.5"
            ]
          },
          "execution_count": 28,
          "metadata": {},
          "output_type": "execute_result"
        }
      ],
      "source": [
        "prob(B)"
      ]
    },
    {
      "cell_type": "code",
      "execution_count": null,
      "id": "93a5060f",
      "metadata": {
        "id": "93a5060f",
        "outputId": "10a66e7b-9d7e-4699-8dc3-23773093ee13"
      },
      "outputs": [
        {
          "data": {
            "text/plain": [
              "0.375"
            ]
          },
          "execution_count": 29,
          "metadata": {},
          "output_type": "execute_result"
        }
      ],
      "source": [
        "prob(C)"
      ]
    },
    {
      "cell_type": "code",
      "execution_count": null,
      "id": "cd281ff2",
      "metadata": {
        "id": "cd281ff2",
        "outputId": "43e4db64-e307-4609-dfba-f1e7926d257b"
      },
      "outputs": [
        {
          "data": {
            "text/plain": [
              "0.6666666666666666"
            ]
          },
          "execution_count": 30,
          "metadata": {},
          "output_type": "execute_result"
        }
      ],
      "source": [
        "prob_cond(B,C)"
      ]
    },
    {
      "cell_type": "markdown",
      "id": "ad2aa423",
      "metadata": {
        "id": "ad2aa423"
      },
      "source": [
        "## Independencia de eventos\n",
        "\n",
        "Decimos que dos ventos $A$ y $B$ son independientes si\n",
        "$$ \\mathbb{P})(A\\cap B) = \\mathbb{P}(A)$$\n",
        "o de ,anera equivalente\n",
        "$$ \\mathbb{P}(A|B) = \\mathbb{P}(A) $$"
      ]
    },
    {
      "cell_type": "code",
      "execution_count": null,
      "id": "a43deeb0",
      "metadata": {
        "id": "a43deeb0"
      },
      "outputs": [],
      "source": [
        "def indep(E, F):\n",
        "    return prob(E & F) == prob(E)*prob(F)"
      ]
    },
    {
      "cell_type": "code",
      "execution_count": null,
      "id": "dd0e3458",
      "metadata": {
        "id": "dd0e3458",
        "outputId": "2532d8e0-e0bd-48c9-ecf6-2db1293c2761"
      },
      "outputs": [
        {
          "data": {
            "text/plain": [
              "False"
            ]
          },
          "execution_count": 32,
          "metadata": {},
          "output_type": "execute_result"
        }
      ],
      "source": [
        "indep(B,C)"
      ]
    },
    {
      "cell_type": "markdown",
      "id": "c16d2989",
      "metadata": {
        "id": "c16d2989"
      },
      "source": [
        "Vamos a considerar el evento:\n",
        "* $D$: en el segundo lanzamiento es sol"
      ]
    },
    {
      "cell_type": "code",
      "execution_count": null,
      "id": "63bcf8a5",
      "metadata": {
        "id": "63bcf8a5",
        "outputId": "577b4b1a-a250-4aea-f2b8-f2909497ff4e"
      },
      "outputs": [
        {
          "data": {
            "text/plain": [
              "{('A', 'S', 'A'), ('A', 'S', 'S'), ('S', 'S', 'A'), ('S', 'S', 'S')}"
            ]
          },
          "execution_count": 33,
          "metadata": {},
          "output_type": "execute_result"
        }
      ],
      "source": [
        "D = {om for om in Omega if om[1]=='S'}\n",
        "D"
      ]
    },
    {
      "cell_type": "code",
      "execution_count": null,
      "id": "4bc0509a",
      "metadata": {
        "id": "4bc0509a",
        "outputId": "3c3b8d4a-f77c-4f43-ae56-269c408c6f64"
      },
      "outputs": [
        {
          "data": {
            "text/plain": [
              "0.5"
            ]
          },
          "execution_count": 34,
          "metadata": {},
          "output_type": "execute_result"
        }
      ],
      "source": [
        "prob(D)"
      ]
    },
    {
      "cell_type": "code",
      "execution_count": null,
      "id": "74a27808",
      "metadata": {
        "id": "74a27808",
        "outputId": "96d67054-2d44-4d35-d988-3971ff3ec78b"
      },
      "outputs": [
        {
          "data": {
            "text/plain": [
              "0.5"
            ]
          },
          "execution_count": 35,
          "metadata": {},
          "output_type": "execute_result"
        }
      ],
      "source": [
        "prob_cond(B,D)"
      ]
    },
    {
      "cell_type": "code",
      "execution_count": null,
      "id": "1e93c5cb",
      "metadata": {
        "id": "1e93c5cb",
        "outputId": "bdd76a8b-bfc8-4065-cd55-232e665a5c22"
      },
      "outputs": [
        {
          "data": {
            "text/plain": [
              "True"
            ]
          },
          "execution_count": 36,
          "metadata": {},
          "output_type": "execute_result"
        }
      ],
      "source": [
        "indep(B,D)"
      ]
    },
    {
      "cell_type": "markdown",
      "id": "4b4c36bd",
      "metadata": {
        "id": "4b4c36bd"
      },
      "source": [
        "Quiero verificar si $B$, $C$ y $D$ son independientes:"
      ]
    },
    {
      "cell_type": "code",
      "execution_count": null,
      "id": "eef1e922",
      "metadata": {
        "id": "eef1e922",
        "outputId": "333e8869-40b8-4993-b8d8-1385c6f02ca9"
      },
      "outputs": [
        {
          "data": {
            "text/plain": [
              "True"
            ]
          },
          "execution_count": 37,
          "metadata": {},
          "output_type": "execute_result"
        }
      ],
      "source": [
        "indep(B,D)"
      ]
    },
    {
      "cell_type": "code",
      "execution_count": null,
      "id": "12099c07",
      "metadata": {
        "id": "12099c07",
        "outputId": "c9e28ecf-262e-4515-9744-55e448f3ef10"
      },
      "outputs": [
        {
          "data": {
            "text/plain": [
              "False"
            ]
          },
          "execution_count": 38,
          "metadata": {},
          "output_type": "execute_result"
        }
      ],
      "source": [
        "indep(C,D)"
      ]
    },
    {
      "cell_type": "code",
      "execution_count": null,
      "id": "2d9cbf76",
      "metadata": {
        "id": "2d9cbf76",
        "outputId": "185d8a8d-ddb5-4a05-f52d-35cc75b81063"
      },
      "outputs": [
        {
          "data": {
            "text/plain": [
              "False"
            ]
          },
          "execution_count": 39,
          "metadata": {},
          "output_type": "execute_result"
        }
      ],
      "source": [
        "indep(B,C)"
      ]
    },
    {
      "cell_type": "markdown",
      "id": "76b1b245",
      "metadata": {
        "id": "76b1b245"
      },
      "source": [
        "Por lo tanto, los eventos no son independientes."
      ]
    },
    {
      "cell_type": "markdown",
      "id": "a2889f09",
      "metadata": {
        "id": "a2889f09"
      },
      "source": [
        "**Ejemplo** Sea el experimetno aleatorio de lanzar un dado dos veces. Sabemos que el espacio muestral es el siguiente:\n",
        "$$ \\Omega = \\{ (i,j) | i,j \\in \\{1,2,3,4,6\\} \\} = \\{1,2,3,4,6\\} \\times \\{1,2,3,4,6\\} \\times \\{1,2,3,4,6\\}$$\n",
        "y además $\\#\\Omega = 6² = 36$"
      ]
    },
    {
      "cell_type": "code",
      "execution_count": null,
      "id": "169fd827",
      "metadata": {
        "id": "169fd827",
        "outputId": "67f3805b-40da-4d44-e38b-2f9ffb5a7c30"
      },
      "outputs": [
        {
          "data": {
            "text/plain": [
              "{(1, 1),\n",
              " (1, 2),\n",
              " (1, 3),\n",
              " (1, 4),\n",
              " (1, 5),\n",
              " (1, 6),\n",
              " (2, 1),\n",
              " (2, 2),\n",
              " (2, 3),\n",
              " (2, 4),\n",
              " (2, 5),\n",
              " (2, 6),\n",
              " (3, 1),\n",
              " (3, 2),\n",
              " (3, 3),\n",
              " (3, 4),\n",
              " (3, 5),\n",
              " (3, 6),\n",
              " (4, 1),\n",
              " (4, 2),\n",
              " (4, 3),\n",
              " (4, 4),\n",
              " (4, 5),\n",
              " (4, 6),\n",
              " (5, 1),\n",
              " (5, 2),\n",
              " (5, 3),\n",
              " (5, 4),\n",
              " (5, 5),\n",
              " (5, 6),\n",
              " (6, 1),\n",
              " (6, 2),\n",
              " (6, 3),\n",
              " (6, 4),\n",
              " (6, 5),\n",
              " (6, 6)}"
            ]
          },
          "execution_count": 40,
          "metadata": {},
          "output_type": "execute_result"
        }
      ],
      "source": [
        "Omega_dado = set(product([1,2,3,4,5,6],repeat=2))\n",
        "Omega_dado"
      ]
    },
    {
      "cell_type": "code",
      "execution_count": null,
      "id": "6f576482",
      "metadata": {
        "id": "6f576482",
        "outputId": "abcce4e7-ce10-4c12-ed5f-4fa7c1285eeb"
      },
      "outputs": [
        {
          "data": {
            "text/plain": [
              "36"
            ]
          },
          "execution_count": 41,
          "metadata": {},
          "output_type": "execute_result"
        }
      ],
      "source": [
        "cardOmega = len(Omega_dado)\n",
        "cardOmega"
      ]
    },
    {
      "cell_type": "markdown",
      "id": "4d4f91f4",
      "metadata": {
        "id": "4d4f91f4"
      },
      "source": [
        "Definimos el evento:\n",
        "* $S_n$: la sumad e los dados en $n$\n",
        "y escrito como conjunto es\n",
        "$$ S_n = \\{ (i,j)\\in\\Omega \\mid i+j = n \\} $$"
      ]
    },
    {
      "cell_type": "code",
      "execution_count": null,
      "id": "774531d5",
      "metadata": {
        "id": "774531d5"
      },
      "outputs": [],
      "source": [
        "def S(n):\n",
        "    Sn = {(i,j) for i in range(1,7) for j in range(1,7) if i+j == n}\n",
        "    return Sn"
      ]
    },
    {
      "cell_type": "code",
      "execution_count": null,
      "id": "4b10588a",
      "metadata": {
        "id": "4b10588a",
        "outputId": "e35a7efe-e9ec-435c-e17b-6aec8037ee57"
      },
      "outputs": [
        {
          "data": {
            "text/plain": [
              "{(3, 6), (4, 5), (5, 4), (6, 3)}"
            ]
          },
          "execution_count": 43,
          "metadata": {},
          "output_type": "execute_result"
        }
      ],
      "source": [
        "S_nueve = S(9)\n",
        "S_nueve"
      ]
    },
    {
      "cell_type": "markdown",
      "id": "6850f5e7",
      "metadata": {
        "id": "6850f5e7"
      },
      "source": [
        "$$ \\mathbb{P}(S(9)) = 4/36 $$"
      ]
    },
    {
      "cell_type": "code",
      "execution_count": null,
      "id": "ef6e68ad",
      "metadata": {
        "id": "ef6e68ad",
        "outputId": "81fd6351-e249-4ebf-bd6c-1777012d2cf4"
      },
      "outputs": [
        {
          "data": {
            "text/plain": [
              "0.1111111111111111"
            ]
          },
          "execution_count": 49,
          "metadata": {},
          "output_type": "execute_result"
        }
      ],
      "source": [
        "len(S_nueve) / cardOmega"
      ]
    },
    {
      "cell_type": "code",
      "source": [
        "!git clone https://github.com/DeiteEspinosa/8-Marzo-2025"
      ],
      "metadata": {
        "colab": {
          "base_uri": "https://localhost:8080/"
        },
        "id": "0eBURo73oNkm",
        "outputId": "8dec35a5-405e-41c7-e100-58017033535d"
      },
      "id": "0eBURo73oNkm",
      "execution_count": 1,
      "outputs": [
        {
          "output_type": "stream",
          "name": "stdout",
          "text": [
            "Cloning into '8-Marzo-2025'...\n",
            "warning: You appear to have cloned an empty repository.\n"
          ]
        }
      ]
    }
  ],
  "metadata": {
    "kernelspec": {
      "display_name": "Python 3 (ipykernel)",
      "language": "python",
      "name": "python3"
    },
    "language_info": {
      "codemirror_mode": {
        "name": "ipython",
        "version": 3
      },
      "file_extension": ".py",
      "mimetype": "text/x-python",
      "name": "python",
      "nbconvert_exporter": "python",
      "pygments_lexer": "ipython3",
      "version": "3.12.3"
    },
    "colab": {
      "provenance": [],
      "include_colab_link": true
    }
  },
  "nbformat": 4,
  "nbformat_minor": 5
}